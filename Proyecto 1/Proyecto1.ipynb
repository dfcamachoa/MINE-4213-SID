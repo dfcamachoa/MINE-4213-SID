{
 "cells": [
  {
   "cell_type": "markdown",
   "metadata": {
    "application/vnd.databricks.v1+cell": {
     "cellMetadata": {},
     "inputWidgets": {},
     "nuid": "720b4e17-6fee-418f-9fea-6fd965ea9984",
     "showTitle": false,
     "tableResultSettingsMap": {},
     "title": ""
    }
   },
   "source": [
    "# Proyecto 1"
   ]
  },
  {
   "cell_type": "code",
   "execution_count": 0,
   "metadata": {
    "application/vnd.databricks.v1+cell": {
     "cellMetadata": {
      "byteLimit": 2048000,
      "rowLimit": 10000
     },
     "inputWidgets": {},
     "nuid": "32a1000f-5066-404b-9662-d4f2b1bb803d",
     "showTitle": false,
     "tableResultSettingsMap": {},
     "title": ""
    }
   },
   "outputs": [],
   "source": [
    "from pyspark.sql import functions as f"
   ]
  },
  {
   "cell_type": "markdown",
   "metadata": {
    "application/vnd.databricks.v1+cell": {
     "cellMetadata": {},
     "inputWidgets": {},
     "nuid": "03fed138-356d-4d29-b221-2dd420114e4f",
     "showTitle": false,
     "tableResultSettingsMap": {},
     "title": ""
    }
   },
   "source": [
    "## 1 - Carga de Datos"
   ]
  },
  {
   "cell_type": "markdown",
   "metadata": {
    "application/vnd.databricks.v1+cell": {
     "cellMetadata": {},
     "inputWidgets": {},
     "nuid": "8c262fe8-9fe1-4f72-b0d7-62099fab68f5",
     "showTitle": false,
     "tableResultSettingsMap": {},
     "title": ""
    }
   },
   "source": [
    "### SECOP II - Contratos Electrónicos\n",
    "Información de los contratos registrados en SECOP II desde su lanzamiento"
   ]
  },
  {
   "cell_type": "code",
   "execution_count": 0,
   "metadata": {
    "application/vnd.databricks.v1+cell": {
     "cellMetadata": {
      "byteLimit": 2048000,
      "rowLimit": 10000
     },
     "inputWidgets": {},
     "nuid": "b2be542c-bd47-4a39-a2f8-3258eb7cee30",
     "showTitle": false,
     "tableResultSettingsMap": {},
     "title": ""
    }
   },
   "outputs": [],
   "source": [
    "# Listar archivos para ver que tenemos en el directorio SECOP\n",
    "dbutils.fs.ls(\"wasbs://sid@uniandesyjt.blob.core.windows.net/secop\")"
   ]
  },
  {
   "cell_type": "markdown",
   "metadata": {
    "application/vnd.databricks.v1+cell": {
     "cellMetadata": {},
     "inputWidgets": {},
     "nuid": "c8022d14-85bc-4c48-b950-8a3106303ed6",
     "showTitle": false,
     "tableResultSettingsMap": {},
     "title": ""
    }
   },
   "source": [
    "Para leer el dataset secop de la manera más rápida posible es necesario definir el esquema. \n",
    "Sabemos de antemano que el formato es json.\n",
    "Inicialmente inferimos el esquema con un muestreo del 10%."
   ]
  },
  {
   "cell_type": "code",
   "execution_count": 0,
   "metadata": {
    "application/vnd.databricks.v1+cell": {
     "cellMetadata": {
      "byteLimit": 2048000,
      "rowLimit": 10000
     },
     "inputWidgets": {},
     "nuid": "2493ef0e-aa45-4342-a244-6ae429ab7474",
     "showTitle": false,
     "tableResultSettingsMap": {},
     "title": ""
    }
   },
   "outputs": [],
   "source": [
    "df_secop_raw = spark.read.format(\"json\")\\\n",
    "    .option(\"inferSchema\", \"true\")\\\n",
    "    .option(\"samplingRatio\", 0.1)\\\n",
    "    .load(\"wasbs://sid@uniandesyjt.blob.core.windows.net/secop/\")\n",
    "df_secop_raw.show(truncate=False)"
   ]
  },
  {
   "cell_type": "markdown",
   "metadata": {
    "application/vnd.databricks.v1+cell": {
     "cellMetadata": {},
     "inputWidgets": {},
     "nuid": "97744360-e7d3-4d03-a5d2-487bdf82e6e7",
     "showTitle": false,
     "tableResultSettingsMap": {},
     "title": ""
    }
   },
   "source": [
    "Visualicemos el esquema del dataframe secop"
   ]
  },
  {
   "cell_type": "code",
   "execution_count": 0,
   "metadata": {
    "application/vnd.databricks.v1+cell": {
     "cellMetadata": {
      "byteLimit": 2048000,
      "rowLimit": 10000
     },
     "inputWidgets": {},
     "nuid": "404ce721-8def-4e73-8e59-693192e045cf",
     "showTitle": false,
     "tableResultSettingsMap": {},
     "title": ""
    }
   },
   "outputs": [],
   "source": [
    "df_secop_raw.printSchema()"
   ]
  },
  {
   "cell_type": "markdown",
   "metadata": {
    "application/vnd.databricks.v1+cell": {
     "cellMetadata": {},
     "inputWidgets": {},
     "nuid": "2e4a9832-5c71-4ae7-94ae-342c11360a9d",
     "showTitle": false,
     "tableResultSettingsMap": {},
     "title": ""
    }
   },
   "source": [
    "Una vez conocemos el tipo de dato de cada columna, procedemos a definir el esquema y usarlo durante la lectura del dataset."
   ]
  },
  {
   "cell_type": "code",
   "execution_count": 0,
   "metadata": {
    "application/vnd.databricks.v1+cell": {
     "cellMetadata": {
      "byteLimit": 2048000,
      "rowLimit": 10000
     },
     "inputWidgets": {},
     "nuid": "14c4856b-3b35-4015-8116-f959c43005de",
     "showTitle": false,
     "tableResultSettingsMap": {},
     "title": ""
    }
   },
   "outputs": [],
   "source": [
    "from pyspark.sql.types import StructType, StructField, StringType, IntegerType, LongType, DoubleType\n",
    "\n",
    "# Define proper schema based on what we can see\n",
    "schema_secop = StructType([\n",
    "    StructField(\"anno_bpin\", StringType(), True),\n",
    "    StructField(\"anno_firma\", IntegerType(), True),\n",
    "    StructField(\"ciudad\", StringType(), True),\n",
    "    StructField(\"código_bpin\", StringType(), True),\n",
    "    StructField(\"departamento\", StringType(), True),\n",
    "    StructField(\"documento_proveedor\", StringType(), True),\n",
    "    StructField(\"duración_del_contrato\", StringType(), True),\n",
    "    StructField(\"entidad_centralizada\", StringType(), True),\n",
    "    StructField(\"estado_contrato\", StringType(), True),\n",
    "    StructField(\"fecha_de_fin_del_contrato\", StringType(), True),\n",
    "    StructField(\"fecha_de_firma\", StringType(), True),\n",
    "    StructField(\"fecha_de_inicio_del_contrato\", StringType(), True),\n",
    "    StructField(\"modalidad_de_contratacion\", StringType(), True),\n",
    "    StructField(\"objeto_del_contrato\", StringType(), True),\n",
    "    StructField(\"orden\", StringType(), True),\n",
    "    StructField(\"origen_de_los_recursos\", StringType(), True),\n",
    "    StructField(\"proveedor_adjudicado\", StringType(), True),\n",
    "    StructField(\"rama\", StringType(), True),\n",
    "    StructField(\"sector\", StringType(), True),\n",
    "    StructField(\"tipo_de_contrato\", StringType(), True),\n",
    "    StructField(\"tipodocproveedor\", StringType(), True),\n",
    "    StructField(\"ultima_actualizacion\", StringType(), True),\n",
    "    StructField(\"urlproceso\", StringType(), True),\n",
    "    StructField(\"valor_del_contrato\", LongType(), True),\n",
    "    StructField(\"valor_pagado\", StringType(), True)\n",
    "])\n",
    "\n",
    "# Read with proper schema\n",
    "df_secop = spark.read.format(\"json\")\\\n",
    "    .schema(schema_secop)\\\n",
    "    .load(\"wasbs://sid@uniandesyjt.blob.core.windows.net/secop/\")\n",
    "\n",
    "df_secop.printSchema()\n",
    "df_secop.show(5)"
   ]
  },
  {
   "cell_type": "code",
   "execution_count": 0,
   "metadata": {
    "application/vnd.databricks.v1+cell": {
     "cellMetadata": {
      "byteLimit": 2048000,
      "rowLimit": 10000
     },
     "inputWidgets": {},
     "nuid": "5867a61a-6e7f-4bc2-8738-a74a02359568",
     "showTitle": false,
     "tableResultSettingsMap": {
      "0": {
       "dataGridStateBlob": "{\"version\":1,\"tableState\":{\"columnPinning\":{\"left\":[\"#row_number#\"],\"right\":[]},\"columnSizing\":{},\"columnVisibility\":{}},\"settings\":{\"columns\":{\"urlproceso\":{\"format\":{\"preset\":\"string-preset-url\"}}}},\"syncTimestamp\":1757646269472}",
       "filterBlob": null,
       "queryPlanFiltersBlob": null,
       "tableResultIndex": 0
      }
     },
     "title": ""
    }
   },
   "outputs": [],
   "source": [
    "display(df_secop)"
   ]
  },
  {
   "cell_type": "markdown",
   "metadata": {
    "application/vnd.databricks.v1+cell": {
     "cellMetadata": {},
     "inputWidgets": {},
     "nuid": "06c0cda6-c3eb-4467-b9e3-a4f591e3604b",
     "showTitle": false,
     "tableResultSettingsMap": {},
     "title": ""
    }
   },
   "source": [
    "Verifiquemos que en la lectura hemos obtenido los registros de todos los años."
   ]
  },
  {
   "cell_type": "code",
   "execution_count": 0,
   "metadata": {
    "application/vnd.databricks.v1+cell": {
     "cellMetadata": {
      "byteLimit": 2048000,
      "rowLimit": 10000
     },
     "inputWidgets": {},
     "nuid": "4e6d0fbc-fab6-48d3-be16-d50df06b7ccf",
     "showTitle": false,
     "tableResultSettingsMap": {},
     "title": ""
    }
   },
   "outputs": [],
   "source": [
    "df_secop.select(\"anno_firma\").distinct().orderBy(\"anno_firma\").show()"
   ]
  },
  {
   "cell_type": "markdown",
   "metadata": {
    "application/vnd.databricks.v1+cell": {
     "cellMetadata": {},
     "inputWidgets": {},
     "nuid": "f510d2ef-eb53-4381-9d44-07d32de91fbd",
     "showTitle": false,
     "tableResultSettingsMap": {},
     "title": ""
    }
   },
   "source": [
    "Una visualización de algunas filas de secop:"
   ]
  },
  {
   "cell_type": "code",
   "execution_count": 0,
   "metadata": {
    "application/vnd.databricks.v1+cell": {
     "cellMetadata": {
      "byteLimit": 2048000,
      "rowLimit": 10000
     },
     "inputWidgets": {},
     "nuid": "b3aa33a5-2835-445c-9b2b-0db28a200b38",
     "showTitle": false,
     "tableResultSettingsMap": {},
     "title": ""
    }
   },
   "outputs": [],
   "source": [
    "df_secop.show(5)"
   ]
  },
  {
   "cell_type": "markdown",
   "metadata": {
    "application/vnd.databricks.v1+cell": {
     "cellMetadata": {},
     "inputWidgets": {},
     "nuid": "99105002-3a31-4a2a-98bb-791dcc1e19ae",
     "showTitle": false,
     "tableResultSettingsMap": {},
     "title": ""
    }
   },
   "source": [
    "Tenemos 4'447,723 registros en secop"
   ]
  },
  {
   "cell_type": "code",
   "execution_count": 0,
   "metadata": {
    "application/vnd.databricks.v1+cell": {
     "cellMetadata": {
      "byteLimit": 2048000,
      "rowLimit": 10000
     },
     "inputWidgets": {},
     "nuid": "574ae8aa-7508-471e-8e44-78e6bf58e129",
     "showTitle": false,
     "tableResultSettingsMap": {},
     "title": ""
    }
   },
   "outputs": [],
   "source": [
    "print(f\"Total rows secop: {df_secop.count()}\")"
   ]
  },
  {
   "cell_type": "markdown",
   "metadata": {
    "application/vnd.databricks.v1+cell": {
     "cellMetadata": {},
     "inputWidgets": {},
     "nuid": "b0f376cd-c597-4257-9abb-9cda3bdaafa8",
     "showTitle": false,
     "tableResultSettingsMap": {},
     "title": ""
    }
   },
   "source": [
    "## DNP-proyectos_datos_basicos\n",
    "Mapa Inversiones. Datos generales y relevantes de un proyecto de inversión pública en Colombia."
   ]
  },
  {
   "cell_type": "markdown",
   "metadata": {
    "application/vnd.databricks.v1+cell": {
     "cellMetadata": {},
     "inputWidgets": {},
     "nuid": "08f73c82-5857-44e2-a62e-adda3eef08e2",
     "showTitle": false,
     "tableResultSettingsMap": {},
     "title": ""
    }
   },
   "source": [
    "Tenemos un archivo bpin.csv.gz"
   ]
  },
  {
   "cell_type": "code",
   "execution_count": 0,
   "metadata": {
    "application/vnd.databricks.v1+cell": {
     "cellMetadata": {
      "byteLimit": 2048000,
      "rowLimit": 10000
     },
     "inputWidgets": {},
     "nuid": "f49be2a9-fc1e-43ad-81a6-92604f533420",
     "showTitle": false,
     "tableResultSettingsMap": {},
     "title": ""
    }
   },
   "outputs": [],
   "source": [
    "# Listemos los archivos en el directorio bpin\n",
    "dbutils.fs.ls(\"wasbs://sid@uniandesyjt.blob.core.windows.net/bpin\")"
   ]
  },
  {
   "cell_type": "markdown",
   "metadata": {
    "application/vnd.databricks.v1+cell": {
     "cellMetadata": {},
     "inputWidgets": {},
     "nuid": "414053a7-0109-4152-9663-70200046abb6",
     "showTitle": false,
     "tableResultSettingsMap": {},
     "title": ""
    }
   },
   "source": [
    "Para leer el dataset bpin de la manera más rápida vamos a inferir el esquema leyendo el archivo en formato csv y usando los encabezados para nombrar las columnas del dataframe."
   ]
  },
  {
   "cell_type": "code",
   "execution_count": 0,
   "metadata": {
    "application/vnd.databricks.v1+cell": {
     "cellMetadata": {
      "byteLimit": 2048000,
      "rowLimit": 10000
     },
     "inputWidgets": {},
     "nuid": "771d8885-9326-4ee3-ba95-e67a4de948b8",
     "showTitle": false,
     "tableResultSettingsMap": {},
     "title": ""
    }
   },
   "outputs": [],
   "source": [
    "df_proyectos_raw = spark.read.format(\"csv\")\\\n",
    "    .option(\"header\", \"true\")\\\n",
    "    .option(\"inferSchema\", \"true\")\\\n",
    "    .option(\"samplingRatio\", 0.1)\\\n",
    "    .load(\"wasbs://sid@uniandesyjt.blob.core.windows.net/bpin/bpin.csv.gz\")\n",
    "\n",
    "df_proyectos_raw.printSchema()"
   ]
  },
  {
   "cell_type": "code",
   "execution_count": 0,
   "metadata": {
    "application/vnd.databricks.v1+cell": {
     "cellMetadata": {
      "byteLimit": 2048000,
      "rowLimit": 10000
     },
     "inputWidgets": {},
     "nuid": "6e360920-861c-4ac9-9e7e-06c8f14b6508",
     "showTitle": false,
     "tableResultSettingsMap": {},
     "title": ""
    }
   },
   "outputs": [],
   "source": [
    "# Definir el schema\n",
    "schema_bpin = StructType([\n",
    "    StructField(\"Bpin\", StringType(), True),\n",
    "    StructField(\"NombreProyecto\", StringType(), True),\n",
    "    StructField(\"ObjetivoGeneral\", StringType(), True),\n",
    "    StructField(\"EstadoProyecto\", StringType(), True),\n",
    "    StructField(\"Horizonte\", StringType(), True),\n",
    "    StructField(\"Sector\", StringType(), True),\n",
    "    StructField(\"EntidadResponsable\", StringType(), True),\n",
    "    StructField(\"ProgramaPresupuestal\", StringType(), True),\n",
    "    StructField(\"TipoProyecto\", StringType(), True),\n",
    "    StructField(\"PlanDesarrolloNacional\", StringType(), True),\n",
    "    StructField(\"ValorTotalProyecto\", DoubleType(), True),\n",
    "    StructField(\"ValorVigenteProyecto\", DoubleType(), True),\n",
    "    StructField(\"ValorObligacionProyecto\", DoubleType(), True),\n",
    "    StructField(\"ValorPagoProyecto\", DoubleType(), True),\n",
    "    StructField(\"SubEstadoProyecto\", StringType(), True),\n",
    "    StructField(\"CodigoEntidadResponsable\", StringType(), True),\n",
    "    StructField(\"TotalBeneficiario\", IntegerType(), True)\n",
    "])\n",
    "\n",
    "df_proyectos = spark.read.format(\"csv\") \\\n",
    "    .option(\"header\", \"true\") \\\n",
    "    .schema(schema_bpin) \\\n",
    "    .load(\"wasbs://sid@uniandesyjt.blob.core.windows.net/bpin/bpin.csv.gz\")\n",
    "\n",
    "\n"
   ]
  },
  {
   "cell_type": "markdown",
   "metadata": {
    "application/vnd.databricks.v1+cell": {
     "cellMetadata": {},
     "inputWidgets": {},
     "nuid": "5ba418e7-d022-448f-9b8c-16db64f7b3cd",
     "showTitle": false,
     "tableResultSettingsMap": {},
     "title": ""
    }
   },
   "source": [
    "Tenemos 498,306 filas en nuestro dataframe bpin"
   ]
  },
  {
   "cell_type": "code",
   "execution_count": 0,
   "metadata": {
    "application/vnd.databricks.v1+cell": {
     "cellMetadata": {
      "byteLimit": 2048000,
      "rowLimit": 10000
     },
     "inputWidgets": {},
     "nuid": "e34613d6-f737-4b72-ae90-f7c6e482f584",
     "showTitle": false,
     "tableResultSettingsMap": {},
     "title": ""
    }
   },
   "outputs": [],
   "source": [
    "print(f\"Total rows bpin: {df_proyectos.count()}\")"
   ]
  },
  {
   "cell_type": "markdown",
   "metadata": {
    "application/vnd.databricks.v1+cell": {
     "cellMetadata": {},
     "inputWidgets": {},
     "nuid": "8450be90-49e4-4451-990b-a4b04aad9f6f",
     "showTitle": false,
     "tableResultSettingsMap": {},
     "title": ""
    }
   },
   "source": [
    "Visualicemos algunas filas de nuestro dataframe bpin"
   ]
  },
  {
   "cell_type": "code",
   "execution_count": 0,
   "metadata": {
    "application/vnd.databricks.v1+cell": {
     "cellMetadata": {
      "byteLimit": 2048000,
      "rowLimit": 10000
     },
     "inputWidgets": {},
     "nuid": "5037a5c7-1782-4474-80bd-8e484f06895f",
     "showTitle": false,
     "tableResultSettingsMap": {},
     "title": ""
    }
   },
   "outputs": [],
   "source": [
    "df_proyectos.show(5)"
   ]
  },
  {
   "cell_type": "code",
   "execution_count": 0,
   "metadata": {
    "application/vnd.databricks.v1+cell": {
     "cellMetadata": {
      "byteLimit": 2048000,
      "rowLimit": 10000
     },
     "inputWidgets": {},
     "nuid": "fcf80378-4da5-4631-af67-dcda9231a13f",
     "showTitle": false,
     "tableResultSettingsMap": {},
     "title": ""
    }
   },
   "outputs": [],
   "source": [
    "display(df_proyectos)"
   ]
  },
  {
   "cell_type": "code",
   "execution_count": 0,
   "metadata": {
    "application/vnd.databricks.v1+cell": {
     "cellMetadata": {
      "byteLimit": 2048000,
      "rowLimit": 10000
     },
     "inputWidgets": {},
     "nuid": "957e8122-bb7b-4096-a5d7-41f0d9431fef",
     "showTitle": false,
     "tableResultSettingsMap": {},
     "title": ""
    }
   },
   "outputs": [],
   "source": [
    "display(df_secop)"
   ]
  },
  {
   "cell_type": "code",
   "execution_count": 0,
   "metadata": {
    "application/vnd.databricks.v1+cell": {
     "cellMetadata": {
      "byteLimit": 2048000,
      "rowLimit": 10000
     },
     "inputWidgets": {},
     "nuid": "5b2f3d72-bf4c-4f97-8c1b-8c0b943598f7",
     "showTitle": false,
     "tableResultSettingsMap": {},
     "title": ""
    }
   },
   "outputs": [],
   "source": [
    "display(df_proyectos)"
   ]
  },
  {
   "cell_type": "markdown",
   "metadata": {
    "application/vnd.databricks.v1+cell": {
     "cellMetadata": {},
     "inputWidgets": {},
     "nuid": "e375e3fe-ba4a-4416-a6a7-2b64e26a73cf",
     "showTitle": false,
     "tableResultSettingsMap": {},
     "title": ""
    }
   },
   "source": [
    "## 2 - Identifique los 10 proveedores que han tenido el mayor valor de contratos durante el año 2024. "
   ]
  },
  {
   "cell_type": "code",
   "execution_count": 0,
   "metadata": {
    "application/vnd.databricks.v1+cell": {
     "cellMetadata": {
      "byteLimit": 2048000,
      "rowLimit": 10000
     },
     "inputWidgets": {},
     "nuid": "8818d74c-017f-40b4-b79e-b22c8a94563c",
     "showTitle": false,
     "tableResultSettingsMap": {},
     "title": ""
    }
   },
   "outputs": [],
   "source": [
    "from pyspark.sql import functions as f"
   ]
  },
  {
   "cell_type": "code",
   "execution_count": 0,
   "metadata": {
    "application/vnd.databricks.v1+cell": {
     "cellMetadata": {
      "byteLimit": 2048000,
      "rowLimit": 10000
     },
     "inputWidgets": {},
     "nuid": "6dc6a243-e465-465b-85f2-49dd7a44d9a4",
     "showTitle": false,
     "tableResultSettingsMap": {},
     "title": ""
    }
   },
   "outputs": [],
   "source": [
    "contratos = (\n",
    "    df_secop.select(\n",
    "        f.upper(f.col(\"proveedor_adjudicado\")).alias(\"proveedor\"),\n",
    "        f.col(\"objeto_del_contrato\").alias(\"objeto\"),\n",
    "        f.col(\"anno_firma\").alias(\"anno\"),\n",
    "        f.col(\"código_bpin\").alias(\"bpin\"),\n",
    "        f.col(\"valor_del_contrato\").cast(\"double\").alias(\"valor_contrato\"),\n",
    "        f.regexp_replace(f.col(\"valor_pagado\"), r\"[$,]\", \"\")\n",
    "        .cast(\"double\")\n",
    "        .alias(\"valor_pagado\")\n",
    "        )\n",
    "    .withColumn(\"valor_contrato_sin_pagar\", f.col(\"valor_contrato\") - f.col(\"valor_pagado\"))\n",
    "    )\n",
    "contratos.show(10)"
   ]
  },
  {
   "cell_type": "code",
   "execution_count": 0,
   "metadata": {
    "application/vnd.databricks.v1+cell": {
     "cellMetadata": {
      "byteLimit": 2048000,
      "rowLimit": 10000
     },
     "inputWidgets": {},
     "nuid": "559114ca-9297-405a-b50c-5dde6e5fcaee",
     "showTitle": false,
     "tableResultSettingsMap": {},
     "title": ""
    }
   },
   "outputs": [],
   "source": [
    "top_contratos = (\n",
    "    contratos.select(\"proveedor\", \"anno\")\n",
    "    .where(f.col(\"anno\") == 2024)\n",
    "    .groupBy(\"proveedor\").count().orderBy(\"count\", ascending=False)\n",
    "    )"
   ]
  },
  {
   "cell_type": "code",
   "execution_count": 0,
   "metadata": {
    "application/vnd.databricks.v1+cell": {
     "cellMetadata": {
      "byteLimit": 2048000,
      "rowLimit": 10000
     },
     "inputWidgets": {},
     "nuid": "2a1f5625-d024-4304-b88d-bafd67f52a27",
     "showTitle": false,
     "tableResultSettingsMap": {},
     "title": ""
    }
   },
   "outputs": [],
   "source": [
    "top_contratos.show(10, truncate=False)"
   ]
  },
  {
   "cell_type": "markdown",
   "metadata": {
    "application/vnd.databricks.v1+cell": {
     "cellMetadata": {},
     "inputWidgets": {},
     "nuid": "a3672be1-6ce2-423d-bf7e-57ec2c746512",
     "showTitle": false,
     "tableResultSettingsMap": {},
     "title": ""
    }
   },
   "source": [
    "## 3 - Identifique los 10 Proyectos de inversión que han tenido el mayor valor de contratos sin pagar (valor del contrato menos el valor pagado). La respuesta debe incluir el nombre de los proyectos y el valor sin pagar."
   ]
  },
  {
   "cell_type": "code",
   "execution_count": 0,
   "metadata": {
    "application/vnd.databricks.v1+cell": {
     "cellMetadata": {
      "byteLimit": 2048000,
      "rowLimit": 10000
     },
     "inputWidgets": {},
     "nuid": "2887d70d-dc06-4e4d-a8a4-887ece0d517e",
     "showTitle": false,
     "tableResultSettingsMap": {},
     "title": ""
    }
   },
   "outputs": [],
   "source": [
    "proyectos = (\n",
    "    df_proyectos.select(\n",
    "        f.upper(f.col(\"NombreProyecto\")).alias(\"nombre_proyecto\"),\n",
    "        f.col(\"Bpin\").alias(\"bpin\"),\n",
    "        f.col(\"ValorTotalProyecto\"),\n",
    "        f.col(\"ValorPagoProyecto\")\n",
    "    )\n",
    ")\n",
    "proyectos.show(5)"
   ]
  },
  {
   "cell_type": "code",
   "execution_count": 0,
   "metadata": {
    "application/vnd.databricks.v1+cell": {
     "cellMetadata": {
      "byteLimit": 2048000,
      "rowLimit": 10000
     },
     "inputWidgets": {},
     "nuid": "30562855-9176-40ef-8779-4146a5a2aa03",
     "showTitle": false,
     "tableResultSettingsMap": {},
     "title": ""
    }
   },
   "outputs": [],
   "source": [
    "proyecto_contrato = (\n",
    "    proyectos.join(contratos, on=\"bpin\", how=\"inner\")\n",
    "    .select(\"objeto\",\"nombre_proyecto\", \"anno\", \"bpin\", \"valor_contrato\", \"valor_pagado\", \"valor_contrato_sin_pagar\",\"ValorTotalProyecto\", \"ValorPagoProyecto\")\n",
    "    .groupBy(\"nombre_proyecto\",\"ValorTotalProyecto\")\n",
    "    .agg(\n",
    "        f.sum(f.col(\"valor_contrato_sin_pagar\")).alias(\"total_contratos_sin_pagar\"),\n",
    "        f.sum(f.col(\"valor_contrato\")).alias(\"total_valor_contratos\"),\n",
    "        f.sum(f.col(\"valor_pagado\")).alias(\"total_valor_pagado\"),\n",
    "        f.count(\"*\").alias(\"numero_contratos\")\n",
    "    )\n",
    "    .withColumn(\"%_ejecucion_contratos\", f.round((f.try_divide(f.col(\"total_valor_pagado\"),f.col(\"total_valor_contratos\")))*100, 2))\n",
    "#   .withColumn(\"diferencia_proyecto_contratos\", f.col(\"ValorTotalProyecto\") - f.col(\"total_valor_contratos\"))\n",
    "    .orderBy(\"total_contratos_sin_pagar\", ascending=False)\n",
    "    .drop(\"ValorTotalProyecto\", \"total_valor_contratos\", \"total_valor_pagado\")\n",
    "    .limit(10)\n",
    ")\n",
    "proyecto_contrato.show(10)"
   ]
  },
  {
   "cell_type": "code",
   "execution_count": 0,
   "metadata": {
    "application/vnd.databricks.v1+cell": {
     "cellMetadata": {
      "byteLimit": 2048000,
      "rowLimit": 10000
     },
     "inputWidgets": {},
     "nuid": "17cdf015-fb91-4728-ae8b-98b1809664ac",
     "showTitle": false,
     "tableResultSettingsMap": {},
     "title": ""
    }
   },
   "outputs": [],
   "source": [
    "display(proyecto_contrato)"
   ]
  },
  {
   "cell_type": "markdown",
   "metadata": {
    "application/vnd.databricks.v1+cell": {
     "cellMetadata": {},
     "inputWidgets": {},
     "nuid": "254fed58-a3ef-4b35-b343-e8a763b33dec",
     "showTitle": false,
     "tableResultSettingsMap": {},
     "title": ""
    }
   },
   "source": [
    "## 4 -  Identifique para cada año el top 5 de los proveedores con mayor valor de contratos. La respuesta debe incluir el nombre de los proveedores, el valor de sus contratos y su posición en el top."
   ]
  },
  {
   "cell_type": "code",
   "execution_count": 0,
   "metadata": {
    "application/vnd.databricks.v1+cell": {
     "cellMetadata": {
      "byteLimit": 2048000,
      "rowLimit": 10000
     },
     "inputWidgets": {},
     "nuid": "0f8e2176-e7c2-456f-8ca9-0423c931385d",
     "showTitle": false,
     "tableResultSettingsMap": {},
     "title": ""
    }
   },
   "outputs": [],
   "source": [
    "from pyspark.sql import Window\n",
    "ventana = Window.partitionBy(\"anno\").orderBy(f.desc(\"total_contratos\"))\n",
    "\n",
    "display(\n",
    "    contratos.select(\n",
    "        f.col(\"proveedor\"),\n",
    "        f.col(\"anno\"),\n",
    "        f.col(\"valor_contrato\")\n",
    "    )\n",
    "    .groupBy(\"anno\",\"proveedor\")\n",
    "    .agg(f.sum(\"valor_contrato\").alias(\"total_contratos\"))\n",
    "    .withColumn(\"rank\", f.row_number().over(ventana))\n",
    "    .filter(f.col(\"rank\") <= 5)\n",
    "    .orderBy(\"anno\", \"rank\")\n",
    ")"
   ]
  },
  {
   "cell_type": "markdown",
   "metadata": {
    "application/vnd.databricks.v1+cell": {
     "cellMetadata": {},
     "inputWidgets": {},
     "nuid": "0f586264-9eec-4066-9b45-850182075f2f",
     "showTitle": false,
     "tableResultSettingsMap": {},
     "title": ""
    }
   },
   "source": [
    "## 5 - Identifique el número de proveedores que firmaron contratos en el 2024 y NO firmaron contratos en el 2020. "
   ]
  },
  {
   "cell_type": "code",
   "execution_count": 0,
   "metadata": {
    "application/vnd.databricks.v1+cell": {
     "cellMetadata": {
      "byteLimit": 2048000,
      "rowLimit": 10000
     },
     "inputWidgets": {},
     "nuid": "9390e5e2-fb9d-488a-afd9-25b5427e5ed6",
     "showTitle": false,
     "tableResultSettingsMap": {
      "0": {
       "dataGridStateBlob": "{\"version\":1,\"tableState\":{\"columnPinning\":{\"left\":[\"#row_number#\"],\"right\":[]},\"columnSizing\":{},\"columnVisibility\":{}},\"settings\":{\"columns\":{}},\"syncTimestamp\":1758140899066}",
       "filterBlob": null,
       "queryPlanFiltersBlob": null,
       "tableResultIndex": 0
      }
     },
     "title": ""
    }
   },
   "outputs": [],
   "source": [
    "contratos_2020 = contratos.where(f.col(\"anno\") == 2020)\n",
    "proveedores_2020 = (\n",
    "    contratos_2020.groupBy(\"proveedor\").count().orderBy(\"proveedor\")\n",
    "    .drop(\"count\")\n",
    "    )\n",
    "display(proveedores_2020.limit(50))\n",
    "display(proveedores_2020.count())"
   ]
  },
  {
   "cell_type": "code",
   "execution_count": 0,
   "metadata": {
    "application/vnd.databricks.v1+cell": {
     "cellMetadata": {
      "byteLimit": 2048000,
      "rowLimit": 10000
     },
     "inputWidgets": {},
     "nuid": "9a4bd68d-194e-4910-9e38-356349d48794",
     "showTitle": false,
     "tableResultSettingsMap": {},
     "title": ""
    }
   },
   "outputs": [],
   "source": [
    "contratos_2024 = contratos.where(f.col(\"anno\") == 2024)\n",
    "proveedores_2024 = (\n",
    "    contratos_2024.groupBy(\"proveedor\").count().orderBy(\"proveedor\")\n",
    "    .drop(\"count\")\n",
    "    )\n",
    "display(proveedores_2024.limit(50))\n",
    "display(proveedores_2024.count())"
   ]
  },
  {
   "cell_type": "code",
   "execution_count": 0,
   "metadata": {
    "application/vnd.databricks.v1+cell": {
     "cellMetadata": {
      "byteLimit": 2048000,
      "rowLimit": 10000
     },
     "inputWidgets": {},
     "nuid": "607046be-905b-4fb2-a8a1-68313260c2e1",
     "showTitle": false,
     "tableResultSettingsMap": {},
     "title": ""
    }
   },
   "outputs": [],
   "source": [
    "\n",
    "proveedores_2024_not_2020 = (\n",
    "    proveedores_2024.join(proveedores_2020, on=\"proveedor\", how=\"left_anti\")\n",
    "    .orderBy(\"proveedor\")\n",
    ")\n",
    "display(proveedores_2024_not_2020.limit(50))\n",
    "display(proveedores_2024_not_2020.count())"
   ]
  },
  {
   "cell_type": "markdown",
   "metadata": {
    "application/vnd.databricks.v1+cell": {
     "cellMetadata": {},
     "inputWidgets": {},
     "nuid": "28750270-70d0-4646-acc2-54c7124b34e8",
     "showTitle": false,
     "tableResultSettingsMap": {},
     "title": ""
    }
   },
   "source": [
    "Por ejemplo #NARRARELFUTURO fue proveedor de contratos en 2024 pero no lo fue en 2020."
   ]
  },
  {
   "cell_type": "markdown",
   "metadata": {
    "application/vnd.databricks.v1+cell": {
     "cellMetadata": {},
     "inputWidgets": {},
     "nuid": "d7d90f6a-8679-4d41-8dca-5ef3f5cf138c",
     "showTitle": false,
     "tableResultSettingsMap": {},
     "title": ""
    }
   },
   "source": [
    "- \\*TECHNICAL ADJUSTMENTS JASS\\*  \n",
    "- (SECRETARÍA DISTRITAL DE INTEGRACIÓN SOCIAL)  \n",
    "contrataron en 2020 y en 2024. Por lo tanto no se visualizan\n",
    "\n"
   ]
  },
  {
   "cell_type": "markdown",
   "metadata": {
    "application/vnd.databricks.v1+cell": {
     "cellMetadata": {},
     "inputWidgets": {},
     "nuid": "e5e04f51-a567-4329-92d0-a7330337891f",
     "showTitle": false,
     "tableResultSettingsMap": {},
     "title": ""
    }
   },
   "source": [
    "## 6 - Calcule el valor promedio de los contratos de “Prestación de servicios” y una aproximación de la mediana (el percentil 50). "
   ]
  },
  {
   "cell_type": "code",
   "execution_count": 0,
   "metadata": {
    "application/vnd.databricks.v1+cell": {
     "cellMetadata": {
      "byteLimit": 2048000,
      "rowLimit": 10000
     },
     "inputWidgets": {},
     "nuid": "25349027-a6d6-4b33-ae6d-4874bcb97dae",
     "showTitle": false,
     "tableResultSettingsMap": {},
     "title": ""
    }
   },
   "outputs": [],
   "source": [
    "# 1) Filtrar contratos de tipo \"Prestación de servicios\" (tolerante a acentos/mayúsculas)\n",
    "df_ps = (\n",
    "    df_secop\n",
    "    .select(\"tipo_de_contrato\", F.col(\"valor_del_contrato\").cast(\"double\").alias(\"valor_del_contrato\"))\n",
    "    .dropna(subset=[\"tipo_de_contrato\", \"valor_del_contrato\"])\n",
    "    .withColumn(\"tipo_lc\", F.lower(F.col(\"tipo_de_contrato\")))\n",
    "    .filter(\n",
    "        F.col(\"tipo_lc\").like(\"%prestación de servicios%\") |\n",
    "        F.col(\"tipo_lc\").like(\"%prestacion de servicios%\")\n",
    "    )\n",
    "    .filter(F.col(\"valor_del_contrato\") > 0)\n",
    ")\n",
    "\n",
    "# 2) Muestreo para acelera\n",
    "sample_fraction = 0.20\n",
    "df_ps_fast = df_ps.sample(withReplacement=False, fraction=sample_fraction, seed=42)\n",
    "\n",
    "# 3) Promedio\n",
    "promedio = df_ps_fast.agg(F.avg(\"valor_del_contrato\").alias(\"promedio\")).first()[\"promedio\"]\n",
    "\n",
    "# 4) Mediana aproximada \n",
    "p50 = df_ps_fast.selectExpr(\"approx_percentile(valor_del_contrato, 0.5) as p50\").first()[\"p50\"]\n",
    "\n",
    "total_filtrados = df_ps.count()\n",
    "total_muestra = df_ps_fast.count()\n",
    "\n",
    "print(f\"Contratos 'Prestación de servicios' filtrados: {total_filtrados:,}\")\n",
    "print(f\"Tamaño de la muestra: {total_muestra:,} (fraction={sample_fraction})\")\n",
    "print(f\"Promedio (aprox): {promedio:,.2f}\")\n",
    "print(f\"Mediana (p50 aprox): {p50:,.2f}\")\n"
   ]
  },
  {
   "cell_type": "markdown",
   "metadata": {
    "application/vnd.databricks.v1+cell": {
     "cellMetadata": {},
     "inputWidgets": {},
     "nuid": "2a19b467-4f70-420c-a003-09e963d6c440",
     "showTitle": false,
     "tableResultSettingsMap": {},
     "title": ""
    }
   },
   "source": [
    "## 7. Cuál fue el año en el que firmaron contratos un mayor número de proveedores distintos. Construya esta respuesta de manera que se minimice el tiempo de cálculo, aunque se sacrifique precisión."
   ]
  },
  {
   "cell_type": "code",
   "execution_count": 0,
   "metadata": {
    "application/vnd.databricks.v1+cell": {
     "cellMetadata": {},
     "inputWidgets": {},
     "nuid": "106bbc9b-724a-4d5c-b18d-c3e095a17735",
     "showTitle": false,
     "tableResultSettingsMap": {},
     "title": ""
    }
   },
   "outputs": [],
   "source": []
  },
  {
   "cell_type": "markdown",
   "metadata": {
    "application/vnd.databricks.v1+cell": {
     "cellMetadata": {},
     "inputWidgets": {},
     "nuid": "7f1a6b36-314b-4f54-81af-b62a353e8e82",
     "showTitle": false,
     "tableResultSettingsMap": {},
     "title": ""
    }
   },
   "source": [
    "## 8. Cuáles son las 20 palabras más comunes en los objetos contractuales del 20% de los contratos más altos del 2020. Para esta respuesta omita [Stopwords](https://pypi.org/project/stop-words/) puntuaciones y no diferencie entre mayúsculas y minúsculas."
   ]
  },
  {
   "cell_type": "code",
   "execution_count": 0,
   "metadata": {
    "application/vnd.databricks.v1+cell": {
     "cellMetadata": {},
     "inputWidgets": {},
     "nuid": "e836b194-c737-4822-b71f-0899c757dcaf",
     "showTitle": false,
     "tableResultSettingsMap": {},
     "title": ""
    }
   },
   "outputs": [],
   "source": []
  }
 ],
 "metadata": {
  "application/vnd.databricks.v1+notebook": {
   "computePreferences": null,
   "dashboards": [],
   "environmentMetadata": {
    "base_environment": "",
    "environment_version": "3"
   },
   "inputWidgetPreferences": null,
   "language": "python",
   "notebookMetadata": {
    "pythonIndentUnit": 4
   },
   "notebookName": "Proyecto1",
   "widgets": {}
  },
  "language_info": {
   "name": "python"
  }
 },
 "nbformat": 4,
 "nbformat_minor": 0
}
